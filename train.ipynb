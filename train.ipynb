{
 "cells": [
  {
   "cell_type": "markdown",
   "metadata": {},
   "source": [
    "# Imports"
   ]
  },
  {
   "cell_type": "code",
   "execution_count": 1,
   "metadata": {},
   "outputs": [
    {
     "name": "stderr",
     "output_type": "stream",
     "text": [
      "[nltk_data] Downloading package punkt to\n",
      "[nltk_data]     C:\\Users\\cathe\\AppData\\Roaming\\nltk_data...\n",
      "[nltk_data]   Package punkt is already up-to-date!\n"
     ]
    }
   ],
   "source": [
    "import torch\n",
    "import torch.nn as nn\n",
    "from torch import optim\n",
    "import os\n",
    "from models import EncoderRNN, LuongAttnDecoderRNN\n",
    "from vocabulary import Voc\n",
    "import random\n",
    "from utils import loadPreparedData, split_data, addPairsToVoc, trimRareWords, batch2TrainData, train, validate"
   ]
  },
  {
   "cell_type": "markdown",
   "metadata": {},
   "source": [
    "# Loading Data, Trimming Words & Splitting"
   ]
  },
  {
   "cell_type": "code",
   "execution_count": 2,
   "metadata": {},
   "outputs": [
    {
     "name": "stdout",
     "output_type": "stream",
     "text": [
      "Skipping malformed line: me neither .\n",
      "Skipping malformed line: joey you don't have to count down every time we kiss .\n",
      "Skipping malformed line: i can do it okay ? come on let's go .\n",
      "Skipping malformed line: i can't do it !\n",
      "Training pairs: 49937\n",
      "Validation pairs: 5549\n"
     ]
    }
   ],
   "source": [
    "# Load preprocessed pairs\n",
    "pairs = loadPreparedData(\"preprocessed_pairs.txt\")\n",
    "\n",
    "# Split data into training and validation sets\n",
    "training_pairs, validation_pairs = split_data(pairs, 0.9)\n",
    "\n",
    "print(f\"Training pairs: {len(training_pairs)}\")\n",
    "print(f\"Validation pairs: {len(validation_pairs)}\")"
   ]
  },
  {
   "cell_type": "code",
   "execution_count": 3,
   "metadata": {},
   "outputs": [
    {
     "name": "stdout",
     "output_type": "stream",
     "text": [
      "keep_words 6137 / 15813 = 0.3881\n",
      "Trimmed from 49937 pairs to 36294, 0.7268 of total\n",
      "Training pairs: 36294\n",
      "Validation pairs: 3885\n"
     ]
    }
   ],
   "source": [
    "PAD_token = 0\n",
    "SOS_token = 1\n",
    "EOS_token = 2\n",
    "\n",
    "# Create vocabulary and add pairs to it\n",
    "voc = Voc(\"FriendsCorpus\", \n",
    "          PAD_token=PAD_token, \n",
    "          SOS_token=SOS_token, \n",
    "          EOS_token=EOS_token)\n",
    "addPairsToVoc(voc, training_pairs)\n",
    "\n",
    "# Trim rare words\n",
    "training_pairs = trimRareWords(voc, training_pairs)\n",
    "\n",
    "# Remove validation pairs that contain words not in the vocabulary\n",
    "validation_pairs = [pair for pair in validation_pairs if all(word in voc.word2index for word in pair[0].split()) and all(word in voc.word2index for word in pair[1].split())]\n",
    "\n",
    "print(f\"Training pairs: {len(training_pairs)}\")\n",
    "print(f\"Validation pairs: {len(validation_pairs)}\")"
   ]
  },
  {
   "cell_type": "markdown",
   "metadata": {},
   "source": [
    "# Training"
   ]
  },
  {
   "cell_type": "code",
   "execution_count": 4,
   "metadata": {},
   "outputs": [],
   "source": [
    "# Define training parameters and hyperparameters\n",
    "hidden_size = 500\n",
    "encoder_n_layers = 2\n",
    "decoder_n_layers = 2\n",
    "dropout = 0.1\n",
    "batch_size = 64\n",
    "clip = 50.0\n",
    "learning_rate = 0.0001\n",
    "decoder_learning_ratio = 5.0\n",
    "n_iteration = 4000\n",
    "validate_print_save = n_iteration // 100\n",
    "teacher_forcing_ratio = 0.5"
   ]
  },
  {
   "cell_type": "code",
   "execution_count": 5,
   "metadata": {},
   "outputs": [
    {
     "name": "stdout",
     "output_type": "stream",
     "text": [
      "Building optimizers...\n"
     ]
    }
   ],
   "source": [
    "# Initialize models\n",
    "encoder = EncoderRNN(hidden_size=hidden_size, \n",
    "                     embedding=nn.Embedding(num_embeddings=voc.num_words, embedding_dim=hidden_size),\n",
    "                     n_layers=encoder_n_layers, \n",
    "                     dropout=dropout)\n",
    "\n",
    "decoder = LuongAttnDecoderRNN(attn_model='dot', \n",
    "                              embedding=nn.Embedding(num_embeddings=voc.num_words, embedding_dim=hidden_size), \n",
    "                              hidden_size=hidden_size, \n",
    "                              output_size=voc.num_words, \n",
    "                              n_layers=decoder_n_layers, \n",
    "                              dropout=dropout)\n",
    "\n",
    "# Initialize optimizers\n",
    "print('Building optimizers...')\n",
    "encoder_optimizer = optim.Adam(encoder.parameters(), lr=learning_rate)\n",
    "decoder_optimizer = optim.Adam(decoder.parameters(), lr=learning_rate * decoder_learning_ratio)"
   ]
  },
  {
   "cell_type": "code",
   "execution_count": 6,
   "metadata": {},
   "outputs": [],
   "source": [
    "# Initialize print_loss for tracking progress\n",
    "print_loss = 0\n",
    "print_total_words = 0\n",
    "losses = []\n",
    "total_words = []\n",
    "loss_avgs = []\n",
    "perplexity_scores = []\n",
    "loss_avgs_val = []\n",
    "perplexity_scores_val = []\n",
    "bleu_scores = []\n",
    "\n",
    "for iteration in range(1, n_iteration + 1):\n",
    "    training_batch = [random.choice(training_pairs) for _ in range(batch_size)]\n",
    "    \n",
    "    # Extract fields from batch\n",
    "    input_variable, lengths, target_variable, mask, max_target_len = batch2TrainData(voc, training_batch)\n",
    "    \n",
    "    # Run a training iteration\n",
    "    loss, n_total = train(input_variable, lengths, target_variable, mask, max_target_len, encoder,\n",
    "                 decoder, encoder_optimizer, decoder_optimizer, batch_size, clip, teacher_forcing_ratio)\n",
    "    \n",
    "    print_loss += loss\n",
    "    print_total_words += n_total\n",
    "    losses.append(loss)\n",
    "    total_words.append(n_total)\n",
    "\n",
    "    if iteration % validate_print_save == 0:\n",
    "        # Validation \n",
    "        encoder.eval()\n",
    "        decoder.eval()\n",
    "        validation_loss, n_total, avg_bleu_score = validate(encoder, decoder, voc, validation_pairs, batch_size)\n",
    "        encoder.train()\n",
    "        decoder.train()\n",
    "\n",
    "        validation_loss_avg = validation_loss / n_total\n",
    "        perplexity_val = torch.exp(torch.tensor(validation_loss / n_total))\n",
    "        loss_avgs_val.append(validation_loss_avg)\n",
    "        perplexity_scores_val.append(perplexity_val)\n",
    "        bleu_scores.append(avg_bleu_score)\n",
    "\n",
    "        # Print progress\n",
    "        print_loss_avg = print_loss / validate_print_save\n",
    "        perplexity = torch.exp(torch.tensor(print_loss / print_total_words))\n",
    "        loss_avgs.append(print_loss_avg)\n",
    "        perplexity_scores.append(perplexity)\n",
    "        print(f\"Iter: {iteration}; Train loss: {print_loss_avg:.4f}; Val loss: {validation_loss_avg:.4f}; Train perplexity: {perplexity:.4f}; Val perplexity: {perplexity_val:.4f}; BLEU: {avg_bleu_score:.4f}\")\n",
    "        print_loss = 0\n",
    "        print_total_words = 0\n",
    "\n",
    "        # Save checkpoint\n",
    "        directory = os.path.join(\"checkpoints\")\n",
    "        if not os.path.exists(directory):\n",
    "            os.makedirs(directory)\n",
    "        torch.save({\n",
    "            'iteration': iteration,\n",
    "            'en': encoder.state_dict(),\n",
    "            'de': decoder.state_dict(),\n",
    "            'en_opt': encoder_optimizer.state_dict(),\n",
    "            'de_opt': decoder_optimizer.state_dict(),\n",
    "            'train loss': loss_avgs,\n",
    "            'val loss': loss_avgs_val,\n",
    "            'train perplexity': perplexity_scores,\n",
    "            'val perplexity': perplexity_scores_val,\n",
    "            'bleu': bleu_scores,\n",
    "            'voc_dict': voc.__dict__,\n",
    "        }, os.path.join(directory, f'{iteration}_checkpoint.tar'))"
   ]
  }
 ],
 "metadata": {
  "kernelspec": {
   "display_name": "venv",
   "language": "python",
   "name": "python3"
  },
  "language_info": {
   "codemirror_mode": {
    "name": "ipython",
    "version": 3
   },
   "file_extension": ".py",
   "mimetype": "text/x-python",
   "name": "python",
   "nbconvert_exporter": "python",
   "pygments_lexer": "ipython3",
   "version": "3.12.2"
  }
 },
 "nbformat": 4,
 "nbformat_minor": 2
}
