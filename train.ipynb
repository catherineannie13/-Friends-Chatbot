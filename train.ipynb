{
 "cells": [
  {
   "cell_type": "code",
   "execution_count": 77,
   "metadata": {},
   "outputs": [],
   "source": [
    "import torch\n",
    "import torch.nn as nn\n",
    "from torch import optim\n",
    "import os\n",
    "from models import EncoderRNN, LuongAttnDecoderRNN\n",
    "from vocabulary import Voc\n",
    "import itertools\n",
    "import random\n",
    "import matplotlib.pyplot as plt\n",
    "import pickle\n",
    "import unicodedata\n",
    "import re\n",
    "import numpy as np"
   ]
  },
  {
   "cell_type": "code",
   "execution_count": 2,
   "metadata": {},
   "outputs": [],
   "source": [
    "PAD_token = 0\n",
    "SOS_token = 1\n",
    "EOS_token = 2\n",
    "\n",
    "voc = Voc(\"FriendsCorpus\")"
   ]
  },
  {
   "cell_type": "code",
   "execution_count": 3,
   "metadata": {},
   "outputs": [],
   "source": [
    "def loadPreparedData(preprocessed_file):\n",
    "    pairs = []\n",
    "    with open(preprocessed_file, 'r', encoding='utf-8') as file:\n",
    "        for line in file:\n",
    "            parts = line.strip().split('\\t')\n",
    "            if len(parts) == 2:\n",
    "                pairs.append(parts)\n",
    "            else:\n",
    "                print(f\"Skipping malformed line: {line.strip()}\")\n",
    "    return pairs\n",
    "\n",
    "def addPairsToVoc(voc, pairs):\n",
    "    for pair in pairs:\n",
    "        voc.addSentence(pair[0])\n",
    "        voc.addSentence(pair[1])"
   ]
  },
  {
   "cell_type": "code",
   "execution_count": 4,
   "metadata": {},
   "outputs": [
    {
     "name": "stdout",
     "output_type": "stream",
     "text": [
      "Skipping malformed line: me neither .\n",
      "Skipping malformed line: joey you don't have to count down every time we kiss .\n",
      "Skipping malformed line: i can do it okay ? come on let's go .\n",
      "Skipping malformed line: i can't do it !\n"
     ]
    }
   ],
   "source": [
    "pairs = loadPreparedData(\"preprocessed_pairs.txt\")\n",
    "addPairsToVoc(voc, pairs)"
   ]
  },
  {
   "cell_type": "code",
   "execution_count": 5,
   "metadata": {},
   "outputs": [
    {
     "data": {
      "text/plain": [
       "(55486, 16041)"
      ]
     },
     "execution_count": 5,
     "metadata": {},
     "output_type": "execute_result"
    }
   ],
   "source": [
    "len(pairs), voc.num_words"
   ]
  },
  {
   "cell_type": "code",
   "execution_count": 6,
   "metadata": {},
   "outputs": [],
   "source": [
    "def trimRareWords(voc, pairs, min_count=3):\n",
    "    # Trim words used under the MIN_COUNT from the voc\n",
    "    voc.trim(min_count)\n",
    "    # Filter out pairs with trimmed words\n",
    "    keep_pairs = []\n",
    "    for pair in pairs:\n",
    "        input_sentence = pair[0]\n",
    "        output_sentence = pair[1]\n",
    "        keep_input = True\n",
    "        keep_output = True\n",
    "        # Check input sentence\n",
    "        for word in input_sentence.split(' '):\n",
    "            if word not in voc.word2index:\n",
    "                keep_input = False\n",
    "                break\n",
    "        # Check output sentence\n",
    "        for word in output_sentence.split(' '):\n",
    "            if word not in voc.word2index:\n",
    "                keep_output = False\n",
    "                break\n",
    "\n",
    "        # Only keep pairs that do not contain trimmed word(s) in their input or output sentence\n",
    "        if keep_input and keep_output:\n",
    "            keep_pairs.append(pair)\n",
    "\n",
    "    print(\"Trimmed from {} pairs to {}, {:.4f} of total\".format(len(pairs), len(keep_pairs), len(keep_pairs) / len(pairs)))\n",
    "    return keep_pairs"
   ]
  },
  {
   "cell_type": "code",
   "execution_count": 7,
   "metadata": {},
   "outputs": [
    {
     "name": "stdout",
     "output_type": "stream",
     "text": [
      "keep_words 8898 / 16038 = 0.5548\n",
      "Trimmed from 55486 pairs to 45901, 0.8273 of total\n"
     ]
    }
   ],
   "source": [
    "pairs = trimRareWords(voc, pairs)"
   ]
  },
  {
   "cell_type": "code",
   "execution_count": 8,
   "metadata": {},
   "outputs": [
    {
     "data": {
      "text/plain": [
       "(45901, 8901)"
      ]
     },
     "execution_count": 8,
     "metadata": {},
     "output_type": "execute_result"
    }
   ],
   "source": [
    "len(pairs), voc.num_words"
   ]
  },
  {
   "cell_type": "code",
   "execution_count": 9,
   "metadata": {},
   "outputs": [],
   "source": [
    "# Define training parameters and hyperparameters\n",
    "hidden_size = 500\n",
    "encoder_n_layers = 2\n",
    "decoder_n_layers = 2\n",
    "dropout = 0.1\n",
    "batch_size = 64\n",
    "clip = 50.0\n",
    "learning_rate = 0.0001\n",
    "decoder_learning_ratio = 5.0\n",
    "n_iteration = 4000\n",
    "print_every = n_iteration // 100\n",
    "save_every = 500\n",
    "teacher_forcing_ratio = 0.5"
   ]
  },
  {
   "cell_type": "code",
   "execution_count": 10,
   "metadata": {},
   "outputs": [
    {
     "name": "stdout",
     "output_type": "stream",
     "text": [
      "Building optimizers...\n"
     ]
    }
   ],
   "source": [
    "# Choose device\n",
    "device = torch.device(\"cuda\" if torch.cuda.is_available() else \"cpu\")\n",
    "\n",
    "# Initialize models\n",
    "encoder = EncoderRNN(hidden_size=hidden_size, \n",
    "                     embedding=nn.Embedding(num_embeddings=voc.num_words, embedding_dim=hidden_size),\n",
    "                     n_layers=encoder_n_layers, \n",
    "                     dropout=dropout).to(device)\n",
    "\n",
    "decoder = LuongAttnDecoderRNN(attn_model='dot', \n",
    "                              embedding=nn.Embedding(num_embeddings=voc.num_words, embedding_dim=hidden_size), \n",
    "                              hidden_size=hidden_size, \n",
    "                              output_size=voc.num_words, \n",
    "                              n_layers=decoder_n_layers, \n",
    "                              dropout=dropout).to(device)\n",
    "\n",
    "# Initialize optimizers\n",
    "print('Building optimizers...')\n",
    "encoder_optimizer = optim.Adam(encoder.parameters(), lr=learning_rate)\n",
    "decoder_optimizer = optim.Adam(decoder.parameters(), lr=learning_rate * decoder_learning_ratio)"
   ]
  },
  {
   "cell_type": "code",
   "execution_count": 11,
   "metadata": {},
   "outputs": [],
   "source": [
    "def indexesFromSentence(voc, sentence):\n",
    "    return [voc.word2index.get(word) for word in sentence.split(' ')] + [EOS_token]\n",
    "\n",
    "def zeroPadding(l, fillvalue=0):\n",
    "    return list(itertools.zip_longest(*l, fillvalue=fillvalue))\n",
    "\n",
    "def binaryMatrix(l, value=0):\n",
    "    m = []\n",
    "    for i, seq in enumerate(l):\n",
    "        m.append([])\n",
    "        for token in seq:\n",
    "            if token == value:\n",
    "                m[i].append(0)\n",
    "            else:\n",
    "                m[i].append(1)\n",
    "    return m\n",
    "\n",
    "def inputVar(l, voc):\n",
    "    indexes_batch = [indexesFromSentence(voc, sentence) for sentence in l]\n",
    "    lengths = torch.tensor([len(indexes) for indexes in indexes_batch])\n",
    "    padList = zeroPadding(indexes_batch)\n",
    "    padVar = torch.LongTensor(padList)\n",
    "    return padVar, lengths\n",
    "\n",
    "def outputVar(l, voc):\n",
    "    indexes_batch = [indexesFromSentence(voc, sentence) for sentence in l]\n",
    "    max_target_len = max([len(indexes) for indexes in indexes_batch])\n",
    "    padList = zeroPadding(indexes_batch)\n",
    "    mask = binaryMatrix(padList)\n",
    "    mask = torch.BoolTensor(mask)\n",
    "    padVar = torch.LongTensor(padList)\n",
    "    return padVar, mask, max_target_len\n",
    "\n",
    "def batch2TrainData(voc, pair_batch):\n",
    "    pair_batch.sort(key=lambda x: len(x[0].split(\" \")), reverse=True)\n",
    "    input_batch, output_batch = [], []\n",
    "    for pair in pair_batch:\n",
    "        input_batch.append(pair[0])\n",
    "        output_batch.append(pair[1])\n",
    "    inp, lengths = inputVar(input_batch, voc)\n",
    "    output, mask, max_target_len = outputVar(output_batch, voc)\n",
    "    return inp, lengths, output, mask, max_target_len"
   ]
  },
  {
   "cell_type": "code",
   "execution_count": 12,
   "metadata": {},
   "outputs": [],
   "source": [
    "def maskNLLLoss(inp, target, mask):\n",
    "    nTotal = mask.sum()\n",
    "    crossEntropy = -torch.log(torch.gather(inp, 1, target.view(-1, 1)).squeeze(1))\n",
    "    loss = crossEntropy.masked_select(mask).mean()\n",
    "    loss = loss.to(device)\n",
    "    return loss, nTotal.item()"
   ]
  },
  {
   "cell_type": "code",
   "execution_count": 13,
   "metadata": {},
   "outputs": [],
   "source": [
    "def train(input_variable, lengths, target_variable, mask, max_target_len, encoder, decoder, encoder_optimizer, decoder_optimizer, batch_size, clip, max_length, teacher_forcing_ratio):\n",
    "    encoder_optimizer.zero_grad()\n",
    "    decoder_optimizer.zero_grad()\n",
    "\n",
    "    input_variable = input_variable.to(device)\n",
    "    lengths = lengths.to(device)\n",
    "    target_variable = target_variable.to(device)\n",
    "    mask = mask.to(device)\n",
    "\n",
    "    loss = 0\n",
    "    print_losses = []\n",
    "    n_totals = 0\n",
    "\n",
    "    encoder_outputs, encoder_hidden = encoder(input_variable, lengths, None)\n",
    "    decoder_input = torch.LongTensor([[SOS_token for _ in range(batch_size)]])\n",
    "    decoder_input = decoder_input.to(device)\n",
    "\n",
    "    decoder_hidden = encoder_hidden[:decoder.n_layers]\n",
    "\n",
    "    use_teacher_forcing = True if random.random() < teacher_forcing_ratio else False\n",
    "\n",
    "    if use_teacher_forcing:\n",
    "        for t in range(max_target_len):\n",
    "            decoder_output, decoder_hidden, _ = decoder(\n",
    "                decoder_input, decoder_hidden, encoder_outputs\n",
    "            )\n",
    "            decoder_input = target_variable[t].view(1, -1)\n",
    "            mask_loss, nTotal = maskNLLLoss(decoder_output, target_variable[t], mask[t])\n",
    "            loss += mask_loss\n",
    "            print_losses.append(mask_loss.item() * nTotal)\n",
    "            n_totals += nTotal\n",
    "    else:\n",
    "        for t in range(max_target_len):\n",
    "            decoder_output, decoder_hidden, _ = decoder(\n",
    "                decoder_input, decoder_hidden, encoder_outputs\n",
    "            )\n",
    "            _, topi = decoder_output.topk(1)\n",
    "\n",
    "            decoder_input = torch.LongTensor([[topi[i][0] for i in range(batch_size)]])\n",
    "            decoder_input = decoder_input.to(device)\n",
    "            mask_loss, nTotal = maskNLLLoss(decoder_output, target_variable[t], mask[t])\n",
    "            loss += mask_loss\n",
    "            print_losses.append(mask_loss.item() * nTotal)\n",
    "            n_totals += nTotal\n",
    "\n",
    "    loss.backward()\n",
    "\n",
    "    _ = torch.nn.utils.clip_grad_norm_(encoder.parameters(), clip)\n",
    "    _ = torch.nn.utils.clip_grad_norm_(decoder.parameters(), clip)\n",
    "\n",
    "    encoder_optimizer.step()\n",
    "    decoder_optimizer.step()\n",
    "\n",
    "    return sum(print_losses), n_totals"
   ]
  },
  {
   "cell_type": "code",
   "execution_count": 14,
   "metadata": {},
   "outputs": [
    {
     "name": "stdout",
     "output_type": "stream",
     "text": [
      "Iteration: 40; Percent complete: 1.0%; Average loss: 5131.0730; Perplexity: 706.42\n",
      "Iteration: 80; Percent complete: 2.0%; Average loss: 4297.2063; Perplexity: 298.07\n",
      "Iteration: 120; Percent complete: 3.0%; Average loss: 4195.9794; Perplexity: 274.73\n",
      "Iteration: 160; Percent complete: 4.0%; Average loss: 4249.0370; Perplexity: 279.47\n",
      "Iteration: 200; Percent complete: 5.0%; Average loss: 4183.1896; Perplexity: 262.62\n",
      "Iteration: 240; Percent complete: 6.0%; Average loss: 4230.3212; Perplexity: 242.04\n",
      "Iteration: 280; Percent complete: 7.0%; Average loss: 4278.2112; Perplexity: 233.11\n",
      "Iteration: 320; Percent complete: 8.0%; Average loss: 4190.8432; Perplexity: 222.65\n",
      "Iteration: 360; Percent complete: 9.0%; Average loss: 4267.8337; Perplexity: 231.29\n",
      "Iteration: 400; Percent complete: 10.0%; Average loss: 3977.1295; Perplexity: 202.51\n",
      "Iteration: 440; Percent complete: 11.0%; Average loss: 3953.5919; Perplexity: 189.86\n",
      "Iteration: 480; Percent complete: 12.0%; Average loss: 4162.6595; Perplexity: 204.32\n",
      "Iteration: 520; Percent complete: 13.0%; Average loss: 4023.9803; Perplexity: 188.65\n",
      "Iteration: 560; Percent complete: 14.0%; Average loss: 4106.4406; Perplexity: 187.57\n",
      "Iteration: 600; Percent complete: 15.0%; Average loss: 3946.7133; Perplexity: 181.13\n",
      "Iteration: 640; Percent complete: 16.0%; Average loss: 3948.8419; Perplexity: 177.56\n",
      "Iteration: 680; Percent complete: 17.0%; Average loss: 3854.6756; Perplexity: 168.18\n",
      "Iteration: 720; Percent complete: 18.0%; Average loss: 3902.8226; Perplexity: 160.13\n",
      "Iteration: 760; Percent complete: 19.0%; Average loss: 3776.1292; Perplexity: 157.29\n",
      "Iteration: 800; Percent complete: 20.0%; Average loss: 3951.6314; Perplexity: 178.76\n",
      "Iteration: 840; Percent complete: 21.0%; Average loss: 3932.7187; Perplexity: 169.17\n",
      "Iteration: 880; Percent complete: 22.0%; Average loss: 4004.5647; Perplexity: 171.90\n",
      "Iteration: 920; Percent complete: 23.0%; Average loss: 3861.1090; Perplexity: 147.98\n",
      "Iteration: 960; Percent complete: 24.0%; Average loss: 3950.1624; Perplexity: 167.71\n",
      "Iteration: 1000; Percent complete: 25.0%; Average loss: 3911.5706; Perplexity: 159.87\n",
      "Iteration: 1040; Percent complete: 26.0%; Average loss: 3809.4799; Perplexity: 147.71\n",
      "Iteration: 1080; Percent complete: 27.0%; Average loss: 3930.6161; Perplexity: 170.50\n",
      "Iteration: 1120; Percent complete: 28.0%; Average loss: 3963.7854; Perplexity: 159.96\n",
      "Iteration: 1160; Percent complete: 29.0%; Average loss: 3824.4510; Perplexity: 170.25\n",
      "Iteration: 1200; Percent complete: 30.0%; Average loss: 3903.6565; Perplexity: 172.39\n",
      "Iteration: 1240; Percent complete: 31.0%; Average loss: 3812.8552; Perplexity: 157.75\n",
      "Iteration: 1280; Percent complete: 32.0%; Average loss: 3777.6320; Perplexity: 140.50\n",
      "Iteration: 1320; Percent complete: 33.0%; Average loss: 3980.9135; Perplexity: 143.26\n",
      "Iteration: 1360; Percent complete: 34.0%; Average loss: 3771.2377; Perplexity: 145.24\n",
      "Iteration: 1400; Percent complete: 35.0%; Average loss: 3809.4522; Perplexity: 142.05\n",
      "Iteration: 1440; Percent complete: 36.0%; Average loss: 3712.0249; Perplexity: 146.51\n",
      "Iteration: 1480; Percent complete: 37.0%; Average loss: 3857.5585; Perplexity: 156.56\n",
      "Iteration: 1520; Percent complete: 38.0%; Average loss: 3745.8288; Perplexity: 136.65\n",
      "Iteration: 1560; Percent complete: 39.0%; Average loss: 3723.8520; Perplexity: 138.51\n",
      "Iteration: 1600; Percent complete: 40.0%; Average loss: 3849.6216; Perplexity: 142.40\n",
      "Iteration: 1640; Percent complete: 41.0%; Average loss: 3935.6639; Perplexity: 137.73\n",
      "Iteration: 1680; Percent complete: 42.0%; Average loss: 3861.5738; Perplexity: 156.53\n",
      "Iteration: 1720; Percent complete: 43.0%; Average loss: 3645.0866; Perplexity: 135.06\n",
      "Iteration: 1760; Percent complete: 44.0%; Average loss: 3829.1666; Perplexity: 151.39\n",
      "Iteration: 1800; Percent complete: 45.0%; Average loss: 3785.9322; Perplexity: 134.73\n",
      "Iteration: 1840; Percent complete: 46.0%; Average loss: 3880.3299; Perplexity: 157.97\n",
      "Iteration: 1880; Percent complete: 47.0%; Average loss: 3715.4469; Perplexity: 128.67\n",
      "Iteration: 1920; Percent complete: 48.0%; Average loss: 4015.3650; Perplexity: 161.89\n",
      "Iteration: 1960; Percent complete: 49.0%; Average loss: 3841.3563; Perplexity: 135.69\n",
      "Iteration: 2000; Percent complete: 50.0%; Average loss: 3791.8877; Perplexity: 142.94\n",
      "Iteration: 2040; Percent complete: 51.0%; Average loss: 3676.9221; Perplexity: 128.89\n",
      "Iteration: 2080; Percent complete: 52.0%; Average loss: 3684.9311; Perplexity: 119.53\n",
      "Iteration: 2120; Percent complete: 53.0%; Average loss: 3908.9365; Perplexity: 148.61\n",
      "Iteration: 2160; Percent complete: 54.0%; Average loss: 3867.2885; Perplexity: 155.59\n",
      "Iteration: 2200; Percent complete: 55.0%; Average loss: 3887.1832; Perplexity: 137.78\n",
      "Iteration: 2240; Percent complete: 56.0%; Average loss: 3726.2621; Perplexity: 137.85\n",
      "Iteration: 2280; Percent complete: 57.0%; Average loss: 3812.8276; Perplexity: 136.89\n",
      "Iteration: 2320; Percent complete: 58.0%; Average loss: 3639.1851; Perplexity: 119.24\n",
      "Iteration: 2360; Percent complete: 59.0%; Average loss: 3758.9396; Perplexity: 131.82\n",
      "Iteration: 2400; Percent complete: 60.0%; Average loss: 3798.4952; Perplexity: 154.85\n",
      "Iteration: 2440; Percent complete: 61.0%; Average loss: 3747.7367; Perplexity: 138.46\n",
      "Iteration: 2480; Percent complete: 62.0%; Average loss: 3797.1076; Perplexity: 128.02\n",
      "Iteration: 2520; Percent complete: 63.0%; Average loss: 3800.9190; Perplexity: 140.62\n",
      "Iteration: 2560; Percent complete: 64.0%; Average loss: 3786.1599; Perplexity: 135.30\n",
      "Iteration: 2600; Percent complete: 65.0%; Average loss: 3661.0338; Perplexity: 119.69\n",
      "Iteration: 2640; Percent complete: 66.0%; Average loss: 3791.0306; Perplexity: 118.59\n",
      "Iteration: 2680; Percent complete: 67.0%; Average loss: 3867.4889; Perplexity: 145.64\n",
      "Iteration: 2720; Percent complete: 68.0%; Average loss: 3597.7600; Perplexity: 106.91\n",
      "Iteration: 2760; Percent complete: 69.0%; Average loss: 3844.4077; Perplexity: 133.47\n",
      "Iteration: 2800; Percent complete: 70.0%; Average loss: 3763.5613; Perplexity: 121.75\n",
      "Iteration: 2840; Percent complete: 71.0%; Average loss: 3592.1682; Perplexity: 110.23\n",
      "Iteration: 2880; Percent complete: 72.0%; Average loss: 3910.8555; Perplexity: 145.09\n",
      "Iteration: 2920; Percent complete: 73.0%; Average loss: 3646.4181; Perplexity: 112.25\n",
      "Iteration: 2960; Percent complete: 74.0%; Average loss: 3935.0429; Perplexity: 142.82\n",
      "Iteration: 3000; Percent complete: 75.0%; Average loss: 3731.3835; Perplexity: 119.93\n",
      "Iteration: 3040; Percent complete: 76.0%; Average loss: 3765.6878; Perplexity: 123.57\n",
      "Iteration: 3080; Percent complete: 77.0%; Average loss: 3782.3092; Perplexity: 134.87\n",
      "Iteration: 3120; Percent complete: 78.0%; Average loss: 3803.7219; Perplexity: 132.13\n",
      "Iteration: 3160; Percent complete: 79.0%; Average loss: 3743.6444; Perplexity: 114.71\n",
      "Iteration: 3200; Percent complete: 80.0%; Average loss: 3614.0939; Perplexity: 114.91\n",
      "Iteration: 3240; Percent complete: 81.0%; Average loss: 3678.5440; Perplexity: 113.33\n",
      "Iteration: 3280; Percent complete: 82.0%; Average loss: 3767.9052; Perplexity: 143.16\n",
      "Iteration: 3320; Percent complete: 83.0%; Average loss: 3636.9025; Perplexity: 129.43\n",
      "Iteration: 3360; Percent complete: 84.0%; Average loss: 3761.3971; Perplexity: 122.88\n",
      "Iteration: 3400; Percent complete: 85.0%; Average loss: 3669.7905; Perplexity: 122.42\n",
      "Iteration: 3440; Percent complete: 86.0%; Average loss: 3546.4259; Perplexity: 101.45\n",
      "Iteration: 3480; Percent complete: 87.0%; Average loss: 3602.9883; Perplexity: 117.15\n",
      "Iteration: 3520; Percent complete: 88.0%; Average loss: 3660.1999; Perplexity: 133.16\n",
      "Iteration: 3560; Percent complete: 89.0%; Average loss: 3681.3594; Perplexity: 122.37\n",
      "Iteration: 3600; Percent complete: 90.0%; Average loss: 3676.2697; Perplexity: 131.34\n",
      "Iteration: 3640; Percent complete: 91.0%; Average loss: 3822.6294; Perplexity: 147.30\n",
      "Iteration: 3680; Percent complete: 92.0%; Average loss: 3701.5698; Perplexity: 124.60\n",
      "Iteration: 3720; Percent complete: 93.0%; Average loss: 3564.4665; Perplexity: 101.38\n",
      "Iteration: 3760; Percent complete: 94.0%; Average loss: 3571.9716; Perplexity: 115.11\n",
      "Iteration: 3800; Percent complete: 95.0%; Average loss: 3696.3244; Perplexity: 123.94\n",
      "Iteration: 3840; Percent complete: 96.0%; Average loss: 3740.4473; Perplexity: 126.52\n",
      "Iteration: 3880; Percent complete: 97.0%; Average loss: 3701.0501; Perplexity: 112.98\n",
      "Iteration: 3920; Percent complete: 98.0%; Average loss: 3592.0049; Perplexity: 117.09\n",
      "Iteration: 3960; Percent complete: 99.0%; Average loss: 3614.7137; Perplexity: 122.97\n",
      "Iteration: 4000; Percent complete: 100.0%; Average loss: 3710.4412; Perplexity: 104.44\n"
     ]
    }
   ],
   "source": [
    "# Initialize print_loss for tracking progress\n",
    "print_loss = 0\n",
    "print_total_words = 0\n",
    "losses = []\n",
    "total_words = []\n",
    "loss_avgs = []\n",
    "perplexity_scores = []\n",
    "\n",
    "for iteration in range(1, n_iteration + 1):\n",
    "    training_batch = [random.choice(pairs) for _ in range(batch_size)]\n",
    "    # Extract fields from batch\n",
    "    input_variable, lengths, target_variable, mask, max_target_len = batch2TrainData(voc, training_batch)\n",
    "    \n",
    "    # Run a training iteration\n",
    "    loss, n_total = train(input_variable, lengths, target_variable, mask, max_target_len, encoder,\n",
    "                 decoder, encoder_optimizer, decoder_optimizer, batch_size, clip, device, teacher_forcing_ratio)\n",
    "    \n",
    "    print_loss += loss\n",
    "    print_total_words += n_total\n",
    "    losses.append(loss)\n",
    "    total_words.append(n_total)\n",
    "    \n",
    "    # Print progress\n",
    "    if iteration % print_every == 0:\n",
    "        print_loss_avg = print_loss / print_every\n",
    "        perplexity = torch.exp(torch.tensor(print_loss / print_total_words))\n",
    "        loss_avgs.append(print_loss_avg)\n",
    "        perplexity_scores.append(perplexity)\n",
    "        print(f\"Iteration: {iteration}; Percent complete: {iteration / n_iteration * 100:.1f}%; Average loss: {print_loss_avg:.4f}; Perplexity: {perplexity:.2f}\")\n",
    "        print_loss = 0\n",
    "        print_total_words = 0\n",
    "\n",
    "    # Save checkpoint\n",
    "    if iteration % save_every == 0:\n",
    "        directory = os.path.join(\"checkpoints\")\n",
    "        if not os.path.exists(directory):\n",
    "            os.makedirs(directory)\n",
    "        torch.save({\n",
    "            'iteration': iteration,\n",
    "            'en': encoder.state_dict(),\n",
    "            'de': decoder.state_dict(),\n",
    "            'en_opt': encoder_optimizer.state_dict(),\n",
    "            'de_opt': decoder_optimizer.state_dict(),\n",
    "            'voc_dict': voc.__dict__,\n",
    "        }, os.path.join(directory, f'{iteration}_checkpoint.tar'))"
   ]
  },
  {
   "cell_type": "code",
   "execution_count": 81,
   "metadata": {},
   "outputs": [
    {
     "data": {
      "image/png": "[encoded data removed]",
      "text/plain": [
       "<Figure size 640x480 with 1 Axes>"
      ]
     },
     "metadata": {},
     "output_type": "display_data"
    },
    {
     "data": {
      "image/png": "[encoded data removed]",
      "text/plain": [
       "<Figure size 640x480 with 1 Axes>"
      ]
     },
     "metadata": {},
     "output_type": "display_data"
    }
   ],
   "source": [
    "plt.plot(loss_avgs)\n",
    "plt.ylabel(\"Loss\")\n",
    "plt.xlabel(\"Iteration\")\n",
    "plt.grid(True)\n",
    "plt.show()\n",
    "\n",
    "plt.plot(perplexity_scores)\n",
    "plt.ylabel(\"Perplexity\")\n",
    "plt.xlabel(\"Iteration\")\n",
    "plt.grid(True)\n",
    "plt.show()"
   ]
  },
  {
   "cell_type": "code",
   "execution_count": 61,
   "metadata": {},
   "outputs": [],
   "source": [
    "def evaluate(encoder, decoder, searcher, voc, sentence, max_length=10):\n",
    "    ### Format input sentence as a batch\n",
    "    # words -> indexes\n",
    "    indexes_batch = [indexesFromSentence(voc, sentence)]\n",
    "    # Create lengths tensor\n",
    "    lengths = torch.tensor([len(indexes) for indexes in indexes_batch])\n",
    "    # Transpose dimensions of batch to match models' expectations\n",
    "    input_batch = torch.LongTensor(indexes_batch).transpose(0, 1)\n",
    "    # Use appropriate device\n",
    "    input_batch = input_batch.to(device)\n",
    "    lengths = lengths.to(\"cpu\")\n",
    "    \n",
    "    # Decode sentence with searcher\n",
    "    tokens, scores = searcher(input_batch, lengths, max_length)\n",
    "    decoded_words = [voc.index2word[token.item()] for token in tokens]\n",
    "    return decoded_words\n",
    "\n",
    "class GreedySearchDecoder(nn.Module):\n",
    "    def __init__(self, encoder, decoder):\n",
    "        super(GreedySearchDecoder, self).__init__()\n",
    "        self.encoder = encoder\n",
    "        self.decoder = decoder\n",
    "\n",
    "    def forward(self, input_seq, input_length, max_length):\n",
    "        # Forward input through encoder model\n",
    "        encoder_outputs, encoder_hidden = self.encoder(input_seq, input_length)\n",
    "        # Prepare encoder's final hidden layer to be first hidden input to the decoder\n",
    "        decoder_hidden = encoder_hidden[:decoder.n_layers]\n",
    "        # Initialize decoder input with SOS_token\n",
    "        decoder_input = torch.ones(1, 1, device=device, dtype=torch.long) * SOS_token\n",
    "        # Initialize tensors to append decoded words to\n",
    "        all_tokens = torch.zeros([0], device=device, dtype=torch.long)\n",
    "        all_scores = torch.zeros([0], device=device)\n",
    "        # Iteratively decode one word token at a time\n",
    "        for _ in range(max_length):\n",
    "            decoder_output, decoder_hidden, _ = self.decoder(decoder_input, decoder_hidden, encoder_outputs)\n",
    "            # Obtain most likely word token and its softmax score\n",
    "            decoder_scores, decoder_input = torch.max(decoder_output, dim=1)\n",
    "            all_tokens = torch.cat((all_tokens, decoder_input), dim=0)\n",
    "            all_scores = torch.cat((all_scores, decoder_scores), dim=0)\n",
    "            # Prepare current token to be next decoder input (add a dimension)\n",
    "            decoder_input = torch.unsqueeze(decoder_input, 0)\n",
    "        # Return collections of word tokens and scores\n",
    "        return all_tokens, all_scores"
   ]
  },
  {
   "cell_type": "code",
   "execution_count": 65,
   "metadata": {},
   "outputs": [
    {
     "name": "stdout",
     "output_type": "stream",
     "text": [
      "Input: how are you ?\n",
      "Output: i yeah yeah i don't know i i i i\n"
     ]
    }
   ],
   "source": [
    "# Example call to evaluate function\n",
    "searcher = GreedySearchDecoder(encoder, decoder)\n",
    "\n",
    "# Input sentence\n",
    "input_sentence = \"how are you ?\"\n",
    "\n",
    "# Evaluate sentence\n",
    "output_words = evaluate(encoder, decoder, searcher, voc, input_sentence)\n",
    "output_sentence = ' '.join(output_words)\n",
    "\n",
    "print('Input:', input_sentence)\n",
    "print('Output:', output_sentence)"
   ]
  },
  {
   "cell_type": "markdown",
   "metadata": {},
   "source": [
    "Input: how are you ?\n",
    "Output: yeah i was the one i was in the bathroom"
   ]
  },
  {
   "cell_type": "code",
   "execution_count": 22,
   "metadata": {},
   "outputs": [],
   "source": [
    "from collections import Counter\n",
    "import itertools\n",
    "\n",
    "def calculate_distinct_n_grams(sentences, n=1):\n",
    "    \"\"\"\n",
    "    Calculate Distinct-N metric for a list of sentences.\n",
    "    \n",
    "    Parameters:\n",
    "    - sentences: list of strings, where each string is a generated response or sentence.\n",
    "    - n: integer, the n-gram length (1 for unigrams, 2 for bigrams, etc.)\n",
    "    \n",
    "    Returns:\n",
    "    - distinct_n: The distinct-N metric, calculated as the number of unique n-grams\n",
    "                  divided by the total number of n-grams.\n",
    "    \"\"\"\n",
    "    # Tokenize the sentences into lists of words\n",
    "    tokens_list = [sentence.split() for sentence in sentences]\n",
    "    \n",
    "    # Generate n-grams from tokens\n",
    "    n_grams = list(itertools.chain(*[list(zip(*[tokens[i:] for i in range(n)])) for tokens in tokens_list]))\n",
    "    \n",
    "    # Count unique n-grams and total n-grams\n",
    "    unique_n_grams = len(set(n_grams))\n",
    "    total_n_grams = len(n_grams)\n",
    "    \n",
    "    # Calculate distinct-N metric\n",
    "    distinct_n = unique_n_grams / total_n_grams if total_n_grams > 0 else 0\n",
    "    return distinct_n\n"
   ]
  },
  {
   "cell_type": "code",
   "execution_count": 57,
   "metadata": {},
   "outputs": [],
   "source": [
    "# Input utterances generated by chat-GPT\n",
    "input_utts = [\n",
    "    \"Why do I always get stuck in the middle of everyone's problems ?\",\n",
    "    \"Imagine if we could solve disputes with a dance-off instead of arguments .\",\n",
    "    \"Do you think a penguin could be a good pet in the city ?\",\n",
    "    \"I accidentally sent a love confession to the group chat , help !\",\n",
    "    \"What's the weirdest thing you've ever done to impress a crush ?\",\n",
    "    \"Have you ever walked into a room and forgotten why you're there ?\",\n",
    "    \"Why is it that every time I try to cook , the fire alarm goes off ?\",\n",
    "    \"I just tried talking to my crush , and I could only speak in movie quotes .\",\n",
    "    \"If you had to choose , would you rather give up coffee or pizza ?\",\n",
    "    \"Is it okay to wear socks with sandals if nobody's going to see ?\",\n",
    "    \"Why do I feel like my laundry multiplies every time I blink ?\",\n",
    "    \"Do you believe in love at first sight , or should I walk by again ?\",\n",
    "    \"What's your take on eating pizza with a fork and knife ?\",\n",
    "    \"Is talking to plants really supposed to help them grow ?\",\n",
    "    \"I dreamed I was a muffin ; what do you think it means ?\",\n",
    "    \"Why is it that I can never find my keys when I'm late ?\",\n",
    "    \"Do you think ducks have best friends ?\",\n",
    "    \"I just found out I've been using a word wrong my entire life .\",\n",
    "    \"Would you rather fight one horse-sized duck or a hundred duck-sized horses ?\",\n",
    "    \"What's the protocol for accidentally waving at someone who wasn't waving at you ?\",\n",
    "    \"Do you ever practice conversations in your head before having them ?\",\n",
    "    \"How many days in a row can you wear the same pair of jeans ?\",\n",
    "    \"Why does my phone always die at the worst possible times ?\",\n",
    "    \"Have you ever sent a text about someone to that person by accident ?\",\n",
    "    \"What's the most embarrassing song you love ?\",\n",
    "    \"Why do I feel like I need a vacation from my vacation ?\",\n",
    "    \"Do you think it's possible to be too good at thumb wrestling ?\",\n",
    "    \"What would you do if you found out you had a secret twin ?\",\n",
    "    \"Why are my awkward moments always witnessed by the most people ?\",\n",
    "    \"If you could have any superpower , but it had to be really mundane , what would it be ?\",\n",
    "    \"What's the silliest reason you've ever had a falling out with someone ?\",\n",
    "    \"Have you ever tried to bake something and it turned into a disaster ?\",\n",
    "    \"Is double-dipping really that bad ?\",\n",
    "    \"What's the strangest coincidence you've ever experienced ?\",\n",
    "    \"Have you ever laughed so hard , no sound came out , and you just sat there clapping like a seal ?\",\n",
    "    \"Why is it that when you're trying not to laugh , everything becomes ten times funnier ?\",\n",
    "    \"Do you think if we didn't have thumbs , we'd still be the dominant species ?\",\n",
    "    \"What's the best way to subtly escape a boring conversation ?\",\n",
    "    \"Have you ever had a dream where you showed up to work in your pajamas ?\",\n",
    "    \"Why do I always crave snacks right after I decide to start eating healthier ?\",\n",
    "    \"Do you ever wonder what your pet names you in their head ?\",\n",
    "    \"What's the worst haircut you've ever had ?\",\n",
    "    \"Have you ever accidentally memorized a song you hate ?\",\n",
    "    \"Why is deciding what to have for dinner the hardest decision of the day ?\",\n",
    "    \"Is it really a road trip if you don't sing along to the radio at the top of your lungs ?\",\n",
    "    \"Have you ever tried to make a recipe you saw in a cartoon ?\",\n",
    "    \"What's the funniest thing you've ever seen a stranger do ?\",\n",
    "    \"Do you think time travel will ever be possible , and if so , what time would you visit ?\",\n",
    "    \"Why is it that every time I try to be cool , I end up doing something awkward ?\",\n",
    "    \"If animals could talk , which species do you think would be the most annoying ?\"\n",
    "]\n"
   ]
  },
  {
   "cell_type": "code",
   "execution_count": 58,
   "metadata": {},
   "outputs": [],
   "source": [
    "def unicodeToAscii(s):\n",
    "    \"\"\"\n",
    "    Converts the Unicode string to plain ASCII.\n",
    "    \"\"\"\n",
    "    return ''.join(\n",
    "        c for c in unicodedata.normalize('NFD', s)\n",
    "        if unicodedata.category(c) != 'Mn'\n",
    "    )\n",
    "\n",
    "def normalizeString(s):\n",
    "    \"\"\"\n",
    "    Lowercase, trim, replace ellipses with a single full stop, \n",
    "    and remove non-letter characters except for basic punctuation.\n",
    "    \"\"\"\n",
    "    # Convert to ASCII\n",
    "    s = unicodeToAscii(s.lower().strip())\n",
    "    # Replace ellipses with a single full stop\n",
    "    s = re.sub(r\"\\.\\s*\\.\\s*\\.\\s*\", \". \", s)\n",
    "    # Space out punctuation\n",
    "    s = re.sub(r\"([.!?])\", r\" \\1\", s)\n",
    "    # Remove non-letter characters except for basic punctuation\n",
    "    s = re.sub(r\"[^a-zA-Z.!?']+\", r\" \", s)\n",
    "    # Replace multiple spaces with a single space\n",
    "    s = re.sub(r\"\\s+\", r\" \", s).strip()\n",
    "    return s"
   ]
  },
  {
   "cell_type": "code",
   "execution_count": 59,
   "metadata": {},
   "outputs": [],
   "source": [
    "input_utts_normalized = [normalizeString(utt) for utt in input_utts]\n",
    "input_utts_filtered = [input_utt for input_utt in input_utts_normalized if all(word in voc.word2index.keys() for word in input_utt.split())]"
   ]
  },
  {
   "cell_type": "code",
   "execution_count": 66,
   "metadata": {},
   "outputs": [
    {
     "data": {
      "text/plain": [
       "[\"why do i always get stuck in the middle of everyone's problems ?\",\n",
       " 'do you think a penguin could be a good pet in the city ?',\n",
       " 'i accidentally sent a love confession to the group chat help !',\n",
       " \"what's the weirdest thing you've ever done to impress a crush ?\",\n",
       " \"have you ever walked into a room and forgotten why you're there ?\",\n",
       " 'why is it that every time i try to cook the fire alarm goes off ?',\n",
       " 'if you had to choose would you rather give up coffee or pizza ?',\n",
       " 'do you believe in love at first sight or should i walk by again ?',\n",
       " \"what's your take on eating pizza with a fork and knife ?\",\n",
       " 'is talking to plants really supposed to help them grow ?']"
      ]
     },
     "execution_count": 66,
     "metadata": {},
     "output_type": "execute_result"
    }
   ],
   "source": [
    "input_utts_filtered[:10]"
   ]
  },
  {
   "cell_type": "code",
   "execution_count": 67,
   "metadata": {},
   "outputs": [
    {
     "data": {
      "text/plain": [
       "(50, 33)"
      ]
     },
     "execution_count": 67,
     "metadata": {},
     "output_type": "execute_result"
    }
   ],
   "source": [
    "len(input_utts), len(input_utts_filtered)"
   ]
  },
  {
   "cell_type": "code",
   "execution_count": 73,
   "metadata": {},
   "outputs": [
    {
     "name": "stdout",
     "output_type": "stream",
     "text": [
      "Generating responses for input utterance 1 / 33...\n",
      "Generating responses for input utterance 2 / 33...\n",
      "Generating responses for input utterance 3 / 33...\n",
      "Generating responses for input utterance 4 / 33...\n",
      "Generating responses for input utterance 5 / 33...\n",
      "Generating responses for input utterance 6 / 33...\n",
      "Generating responses for input utterance 7 / 33...\n",
      "Generating responses for input utterance 8 / 33...\n",
      "Generating responses for input utterance 9 / 33...\n",
      "Generating responses for input utterance 10 / 33...\n",
      "Generating responses for input utterance 11 / 33...\n",
      "Generating responses for input utterance 12 / 33...\n",
      "Generating responses for input utterance 13 / 33...\n",
      "Generating responses for input utterance 14 / 33...\n",
      "Generating responses for input utterance 15 / 33...\n",
      "Generating responses for input utterance 16 / 33...\n",
      "Generating responses for input utterance 17 / 33...\n",
      "Generating responses for input utterance 18 / 33...\n",
      "Generating responses for input utterance 19 / 33...\n",
      "Generating responses for input utterance 20 / 33...\n",
      "Generating responses for input utterance 21 / 33...\n",
      "Generating responses for input utterance 22 / 33...\n",
      "Generating responses for input utterance 23 / 33...\n",
      "Generating responses for input utterance 24 / 33...\n",
      "Generating responses for input utterance 25 / 33...\n",
      "Generating responses for input utterance 26 / 33...\n",
      "Generating responses for input utterance 27 / 33...\n",
      "Generating responses for input utterance 28 / 33...\n",
      "Generating responses for input utterance 29 / 33...\n",
      "Generating responses for input utterance 30 / 33...\n",
      "Generating responses for input utterance 31 / 33...\n",
      "Generating responses for input utterance 32 / 33...\n",
      "Generating responses for input utterance 33 / 33...\n"
     ]
    }
   ],
   "source": [
    "searcher = GreedySearchDecoder(encoder, decoder)\n",
    "attempts = 50\n",
    "outputs = [[] for _ in range(len(input_utts_filtered))]\n",
    "\n",
    "for idx, input_utt in enumerate(input_utts_filtered):\n",
    "    print(f\"Generating responses for input utterance {idx + 1} / {len(input_utts_filtered)}...\")\n",
    "    for _ in range(attempts):\n",
    "        output_words = evaluate(encoder, decoder, searcher, voc, input_utt)\n",
    "        output_utt = ' '.join(output_words)\n",
    "        outputs[idx].append(output_utt)"
   ]
  },
  {
   "cell_type": "code",
   "execution_count": 78,
   "metadata": {},
   "outputs": [
    {
     "name": "stdout",
     "output_type": "stream",
     "text": [
      "Distinct-1: 0.0121\n",
      "Distinct-2: 0.0208\n"
     ]
    }
   ],
   "source": [
    "distinct_1 = [calculate_distinct_n_grams(outputs[i], n=1) for i in range(len(input_utts_filtered))]\n",
    "distinct_2 = [calculate_distinct_n_grams(outputs[i], n=2) for i in range(len(input_utts_filtered))]\n",
    "\n",
    "print(f\"Distinct-1: {np.mean(distinct_1):.4f}\")\n",
    "print(f\"Distinct-2: {np.mean(distinct_2):.4f}\")"
   ]
  },
  {
   "cell_type": "code",
   "execution_count": null,
   "metadata": {},
   "outputs": [],
   "source": []
  },
  {
   "cell_type": "code",
   "execution_count": null,
   "metadata": {},
   "outputs": [],
   "source": []
  },
  {
   "cell_type": "code",
   "execution_count": null,
   "metadata": {},
   "outputs": [],
   "source": []
  },
  {
   "cell_type": "code",
   "execution_count": 88,
   "metadata": {},
   "outputs": [],
   "source": [
    "import torch\n",
    "import torch.nn.functional as F\n",
    "\n",
    "class BeamSearchDecoder(nn.Module):\n",
    "    def __init__(self, encoder, decoder, voc, beam_width=5):\n",
    "        super(BeamSearchDecoder, self).__init__()\n",
    "        self.encoder = encoder\n",
    "        self.decoder = decoder\n",
    "        self.voc = voc\n",
    "        self.beam_width = beam_width\n",
    "\n",
    "    def forward(self, input_seq, input_length, max_length):\n",
    "        encoder_outputs, encoder_hidden = self.encoder(input_seq, input_length, None)\n",
    "\n",
    "        # Tensor to store decoder outputs\n",
    "        all_tokens = torch.zeros([0], device=device, dtype=torch.long)\n",
    "        all_scores = torch.zeros([0], device=device)\n",
    "\n",
    "        # Start with the start of the sentence token\n",
    "        decoder_input = torch.ones(1, 1, device=device, dtype=torch.long) * SOS_token\n",
    "        decoder_hidden = encoder_hidden[:decoder.n_layers]\n",
    "\n",
    "        # Now, instead of just looking for the most likely next step, \n",
    "        # keep track of the top k choices at each step; initialize beams\n",
    "        beams = [(decoder_input, decoder_hidden, 0, [])] # Each beam is a tuple (decoder_input, decoder_hidden, score, token_list)\n",
    "\n",
    "        for _ in range(max_length):\n",
    "            candidates = []\n",
    "            for beam in beams:\n",
    "                decoder_input, decoder_hidden, score, token_list = beam\n",
    "                with torch.no_grad():\n",
    "                    decoder_output, decoder_hidden, _ = self.decoder(decoder_input, decoder_hidden, encoder_outputs)\n",
    "                log_probs = F.log_softmax(decoder_output, dim=1)\n",
    "                top_log_probs, top_idxs = log_probs.topk(self.beam_width)\n",
    "\n",
    "                for i in range(self.beam_width):\n",
    "                    next_token_log_prob = top_log_probs[0][i].item()\n",
    "                    next_token_idx = top_idxs[0][i].item()\n",
    "\n",
    "                    candidates.append((torch.ones(1, 1, device=device, dtype=torch.long) * next_token_idx, decoder_hidden, score + next_token_log_prob, token_list + [next_token_idx]))\n",
    "\n",
    "            # Sort candidates by score and select top k\n",
    "            candidates = sorted(candidates, key=lambda x: x[2], reverse=True)[:self.beam_width]\n",
    "            beams = candidates\n",
    "\n",
    "        # Choose the beam with the highest score\n",
    "        _, _, final_score, final_tokens = max(beams, key=lambda x: x[2])\n",
    "\n",
    "        all_tokens = torch.tensor(final_tokens, device=device)\n",
    "        all_scores = torch.tensor(final_score, device=device)\n",
    "        return all_tokens, all_scores\n",
    "\n",
    "def evaluate_beam_search(encoder, decoder, voc, sentence, max_length=10, beam_width=5):\n",
    "    ### Format input sentence as a batch\n",
    "    indexes_batch = [indexesFromSentence(voc, sentence)]\n",
    "    lengths = torch.tensor([len(indexes) for indexes in indexes_batch])\n",
    "    input_batch = torch.LongTensor(indexes_batch).transpose(0, 1).to(device)\n",
    "    lengths = lengths.to(\"cpu\")\n",
    "    \n",
    "    # Decode sentence with beam search\n",
    "    searcher = BeamSearchDecoder(encoder, decoder, voc, beam_width=beam_width)\n",
    "    tokens, scores = searcher(input_batch, lengths, max_length)\n",
    "    decoded_words = [voc.index2word[token.item()] for token in tokens]\n",
    "    return decoded_words\n"
   ]
  },
  {
   "cell_type": "code",
   "execution_count": 93,
   "metadata": {},
   "outputs": [
    {
     "name": "stdout",
     "output_type": "stream",
     "text": [
      "Input: how are you ?\n",
      "Output: yeah yeah yeah i did it . EOS . EOS\n"
     ]
    }
   ],
   "source": [
    "# Input sentence\n",
    "input_sentence = \"how are you ?\"\n",
    "\n",
    "# Evaluate sentence\n",
    "output_words = evaluate_beam_search(encoder, decoder, voc, input_sentence)\n",
    "output_sentence = ' '.join(output_words)\n",
    "\n",
    "print('Input:', input_sentence)\n",
    "print('Output:', output_sentence)"
   ]
  },
  {
   "cell_type": "code",
   "execution_count": 94,
   "metadata": {},
   "outputs": [
    {
     "name": "stdout",
     "output_type": "stream",
     "text": [
      "Generating responses for input utterance 1 / 33...\n",
      "Generating responses for input utterance 2 / 33...\n",
      "Generating responses for input utterance 3 / 33...\n",
      "Generating responses for input utterance 4 / 33...\n",
      "Generating responses for input utterance 5 / 33...\n",
      "Generating responses for input utterance 6 / 33...\n",
      "Generating responses for input utterance 7 / 33...\n",
      "Generating responses for input utterance 8 / 33...\n",
      "Generating responses for input utterance 9 / 33...\n",
      "Generating responses for input utterance 10 / 33...\n",
      "Generating responses for input utterance 11 / 33...\n",
      "Generating responses for input utterance 12 / 33...\n",
      "Generating responses for input utterance 13 / 33...\n",
      "Generating responses for input utterance 14 / 33...\n",
      "Generating responses for input utterance 15 / 33...\n",
      "Generating responses for input utterance 16 / 33...\n",
      "Generating responses for input utterance 17 / 33...\n",
      "Generating responses for input utterance 18 / 33...\n",
      "Generating responses for input utterance 19 / 33...\n",
      "Generating responses for input utterance 20 / 33...\n",
      "Generating responses for input utterance 21 / 33...\n",
      "Generating responses for input utterance 22 / 33...\n",
      "Generating responses for input utterance 23 / 33...\n",
      "Generating responses for input utterance 24 / 33...\n",
      "Generating responses for input utterance 25 / 33...\n",
      "Generating responses for input utterance 26 / 33...\n"
     ]
    }
   ],
   "source": [
    "attempts = 50\n",
    "outputs = [[] for _ in range(len(input_utts_filtered))]\n",
    "\n",
    "for idx, input_utt in enumerate(input_utts_filtered):\n",
    "    print(f\"Generating responses for input utterance {idx + 1} / {len(input_utts_filtered)}...\")\n",
    "    for _ in range(attempts):\n",
    "        output_words = evaluate_beam_search(encoder, decoder, voc, input_utt)\n",
    "        output_utt = ' '.join(output_words)\n",
    "        outputs[idx].append(output_utt)"
   ]
  },
  {
   "cell_type": "code",
   "execution_count": null,
   "metadata": {},
   "outputs": [],
   "source": [
    "distinct_1 = [calculate_distinct_n_grams(outputs[i], n=1) for i in range(len(input_utts_filtered))]\n",
    "distinct_2 = [calculate_distinct_n_grams(outputs[i], n=2) for i in range(len(input_utts_filtered))]\n",
    "\n",
    "print(f\"Distinct-1: {np.mean(distinct_1):.4f}\")\n",
    "print(f\"Distinct-2: {np.mean(distinct_2):.4f}\")"
   ]
  },
  {
   "cell_type": "code",
   "execution_count": null,
   "metadata": {},
   "outputs": [],
   "source": []
  }
 ],
 "metadata": {
  "kernelspec": {
   "display_name": "venv",
   "language": "python",
   "name": "python3"
  },
  "language_info": {
   "codemirror_mode": {
    "name": "ipython",
    "version": 3
   },
   "file_extension": ".py",
   "mimetype": "text/x-python",
   "name": "python",
   "nbconvert_exporter": "python",
   "pygments_lexer": "ipython3",
   "version": "3.12.2"
  }
 },
 "nbformat": 4,
 "nbformat_minor": 2
}
