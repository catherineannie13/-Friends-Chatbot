{
 "cells": [
  {
   "cell_type": "markdown",
   "metadata": {},
   "source": [
    "# Imports"
   ]
  },
  {
   "cell_type": "code",
   "execution_count": 7,
   "metadata": {},
   "outputs": [],
   "source": [
    "from convokit import Corpus, download\n",
    "import csv\n",
    "import codecs\n",
    "from utils import extractSentencePairs"
   ]
  },
  {
   "cell_type": "markdown",
   "metadata": {},
   "source": [
    "# Loading Data & Preprocessing"
   ]
  },
  {
   "cell_type": "code",
   "execution_count": 11,
   "metadata": {},
   "outputs": [
    {
     "name": "stdout",
     "output_type": "stream",
     "text": [
      "Dataset already exists at C:\\Users\\cathe\\.convokit\\downloads\\friends-corpus\n",
      "\n",
      "Writing newly formatted file...\n",
      "Done writing to file\n"
     ]
    }
   ],
   "source": [
    "# Load the Friends corpus using ConvoKit\n",
    "corpus = Corpus(filename=download(\"friends-corpus\"))\n",
    "\n",
    "qa_pairs = extractSentencePairs(corpus)\n",
    "\n",
    "# Save the sentence pairs to a new CSV file\n",
    "outputfile = 'preprocessed_pairs.txt'\n",
    "delimiter = '\\t'\n",
    "\n",
    "# Using codecs.decode to unescape the escape character\n",
    "delimiter = str(codecs.decode(delimiter, \"unicode_escape\"))\n",
    "\n",
    "print(\"\\nWriting newly formatted file...\")\n",
    "with open(outputfile, 'w', encoding='utf-8') as outputfile:\n",
    "    writer = csv.writer(outputfile, delimiter=delimiter, lineterminator='\\n')\n",
    "    for pair in qa_pairs:\n",
    "        writer.writerow(pair)\n",
    "\n",
    "print(\"Done writing to file\")"
   ]
  },
  {
   "cell_type": "code",
   "execution_count": 12,
   "metadata": {},
   "outputs": [],
   "source": [
    "# checking for malformed pairs in preprocessing\n",
    "for pair in qa_pairs:\n",
    "    assert len(pair) == 2, f\"Found a pair with length {len(pair)}: {pair}\""
   ]
  }
 ],
 "metadata": {
  "kernelspec": {
   "display_name": "venv",
   "language": "python",
   "name": "python3"
  },
  "language_info": {
   "codemirror_mode": {
    "name": "ipython",
    "version": 3
   },
   "file_extension": ".py",
   "mimetype": "text/x-python",
   "name": "python",
   "nbconvert_exporter": "python",
   "pygments_lexer": "ipython3",
   "version": "3.12.2"
  }
 },
 "nbformat": 4,
 "nbformat_minor": 2
}
