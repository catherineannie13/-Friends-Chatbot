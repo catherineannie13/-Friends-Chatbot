{
 "cells": [
  {
   "cell_type": "markdown",
   "metadata": {},
   "source": [
    "# Imports"
   ]
  },
  {
   "cell_type": "code",
   "execution_count": 1,
   "metadata": {},
   "outputs": [],
   "source": [
    "from convokit import Corpus, download\n",
    "from utils import extractSentencePairs, split_data, addPairsToVoc, trimRareWords\n",
    "from vocabulary import Voc"
   ]
  },
  {
   "cell_type": "markdown",
   "metadata": {},
   "source": [
    "# Loading Data & Preprocessing"
   ]
  },
  {
   "cell_type": "code",
   "execution_count": 2,
   "metadata": {},
   "outputs": [
    {
     "name": "stdout",
     "output_type": "stream",
     "text": [
      "Dataset already exists at C:\\Users\\cathe\\.convokit\\downloads\\friends-corpus\n"
     ]
    }
   ],
   "source": [
    "# Load the Friends corpus using ConvoKit\n",
    "corpus = Corpus(filename=download(\"friends-corpus\"))\n",
    "\n",
    "# Extract the sentence pairs from the corpus\n",
    "qa_pairs = extractSentencePairs(corpus)\n",
    "\n",
    "# Split data into training and validation sets\n",
    "training_pairs, validation_pairs = split_data(qa_pairs, 0.9)"
   ]
  },
  {
   "cell_type": "markdown",
   "metadata": {},
   "source": [
    "# Creating Vocabulary"
   ]
  },
  {
   "cell_type": "code",
   "execution_count": 3,
   "metadata": {},
   "outputs": [
    {
     "name": "stdout",
     "output_type": "stream",
     "text": [
      "keep_words 6128 / 15881 = 0.3859\n",
      "Trimmed from 49941 pairs to 36316, 0.7272 of total\n"
     ]
    }
   ],
   "source": [
    "PAD_token = 0\n",
    "SOS_token = 1\n",
    "EOS_token = 2\n",
    "\n",
    "# Create vocabulary and add pairs to it\n",
    "voc = Voc(\"FriendsCorpus\", \n",
    "          PAD_token=PAD_token, \n",
    "          SOS_token=SOS_token, \n",
    "          EOS_token=EOS_token)\n",
    "addPairsToVoc(voc, training_pairs)\n",
    "\n",
    "# Trim rare words\n",
    "training_pairs = trimRareWords(voc, training_pairs)"
   ]
  },
  {
   "cell_type": "code",
   "execution_count": 4,
   "metadata": {},
   "outputs": [
    {
     "name": "stdout",
     "output_type": "stream",
     "text": [
      "Training pairs: 36316\n",
      "Validation pairs: 3848\n"
     ]
    }
   ],
   "source": [
    "# Remove validation pairs that contain words not in the vocabulary\n",
    "validation_pairs = [pair for pair in validation_pairs if all(word in voc.word2index for word in pair[0].split()) and all(word in voc.word2index for word in pair[1].split())]\n",
    "\n",
    "print(f\"Training pairs: {len(training_pairs)}\")\n",
    "print(f\"Validation pairs: {len(validation_pairs)}\")"
   ]
  },
  {
   "cell_type": "code",
   "execution_count": 9,
   "metadata": {},
   "outputs": [],
   "source": [
    "# Save the training pairs to a file\n",
    "filename = 'data/validation_pairs.txt'\n",
    "\n",
    "with open(filename, 'w', encoding='utf-8') as file:\n",
    "    for pair in validation_pairs:\n",
    "        file.write(pair[0] + '\\t' + pair[1] + '\\n')"
   ]
  },
  {
   "cell_type": "code",
   "execution_count": 10,
   "metadata": {},
   "outputs": [],
   "source": [
    "# Save the validation pairs to a file\n",
    "filename = 'data/training_pairs.txt'\n",
    "\n",
    "with open(filename, 'w', encoding='utf-8') as file:\n",
    "    for pair in training_pairs:\n",
    "        file.write(pair[0] + '\\t' + pair[1] + '\\n')"
   ]
  },
  {
   "cell_type": "code",
   "execution_count": 11,
   "metadata": {},
   "outputs": [],
   "source": [
    "# Save the vocabulary to a file\n",
    "filename = 'data/voc.txt'\n",
    "\n",
    "with open(filename, 'w', encoding='utf-8') as file:\n",
    "    file.write(str(voc.__dict__))"
   ]
  }
 ],
 "metadata": {
  "kernelspec": {
   "display_name": "venv",
   "language": "python",
   "name": "python3"
  },
  "language_info": {
   "codemirror_mode": {
    "name": "ipython",
    "version": 3
   },
   "file_extension": ".py",
   "mimetype": "text/x-python",
   "name": "python",
   "nbconvert_exporter": "python",
   "pygments_lexer": "ipython3",
   "version": "3.12.2"
  }
 },
 "nbformat": 4,
 "nbformat_minor": 2
}
