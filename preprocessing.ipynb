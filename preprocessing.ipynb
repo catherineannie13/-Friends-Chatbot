{
 "cells": [
  {
   "cell_type": "code",
   "execution_count": 7,
   "metadata": {},
   "outputs": [],
   "source": [
    "from convokit import Corpus, download\n",
    "import re\n",
    "import unicodedata\n",
    "import csv\n",
    "import codecs"
   ]
  },
  {
   "cell_type": "code",
   "execution_count": 8,
   "metadata": {},
   "outputs": [],
   "source": [
    "def unicodeToAscii(s):\n",
    "    \"\"\"\n",
    "    Converts the Unicode string to plain ASCII.\n",
    "    \"\"\"\n",
    "    return ''.join(\n",
    "        c for c in unicodedata.normalize('NFD', s)\n",
    "        if unicodedata.category(c) != 'Mn'\n",
    "    )"
   ]
  },
  {
   "cell_type": "code",
   "execution_count": 9,
   "metadata": {},
   "outputs": [],
   "source": [
    "def normalizeString(s):\n",
    "    \"\"\"\n",
    "    Lowercase, trim, replace ellipses with a single full stop, \n",
    "    and remove non-letter characters except for basic punctuation.\n",
    "    \"\"\"\n",
    "    # Convert to ASCII\n",
    "    s = unicodeToAscii(s.lower().strip())\n",
    "    # Replace ellipses with a single full stop\n",
    "    s = re.sub(r\"\\.\\s*\\.\\s*\\.\\s*\", \". \", s)\n",
    "    # Space out punctuation\n",
    "    s = re.sub(r\"([.!?])\", r\" \\1\", s)\n",
    "    # Remove non-letter characters except for basic punctuation\n",
    "    s = re.sub(r\"[^a-zA-Z.!?']+\", r\" \", s)\n",
    "    # Replace multiple spaces with a single space\n",
    "    s = re.sub(r\"\\s+\", r\" \", s).strip()\n",
    "    return s"
   ]
  },
  {
   "cell_type": "code",
   "execution_count": 10,
   "metadata": {},
   "outputs": [],
   "source": [
    "def extractSentencePairs(corpus):\n",
    "    qa_pairs = []\n",
    "    for conv_id in corpus.get_conversation_ids():\n",
    "        conversation = corpus.get_conversation(conv_id)\n",
    "        utterances = conversation.get_utterance_ids()\n",
    "        for i in range(len(utterances) - 1):\n",
    "            input_line = corpus.get_utterance(utterances[i]).text.strip()\n",
    "            target_line = corpus.get_utterance(utterances[i+1]).text.strip()\n",
    "            if input_line and target_line:  # Filter out empty lines\n",
    "                qa_pairs.append([normalizeString(input_line), normalizeString(target_line)])\n",
    "    return qa_pairs"
   ]
  },
  {
   "cell_type": "code",
   "execution_count": 11,
   "metadata": {},
   "outputs": [
    {
     "name": "stdout",
     "output_type": "stream",
     "text": [
      "Dataset already exists at C:\\Users\\cathe\\.convokit\\downloads\\friends-corpus\n",
      "\n",
      "Writing newly formatted file...\n",
      "Done writing to file\n"
     ]
    }
   ],
   "source": [
    "# Load the Friends corpus using ConvoKit\n",
    "corpus = Corpus(filename=download(\"friends-corpus\"))\n",
    "\n",
    "qa_pairs = extractSentencePairs(corpus)\n",
    "\n",
    "# Save the sentence pairs to a new CSV file\n",
    "outputfile = 'preprocessed_pairs.txt'\n",
    "delimiter = '\\t'\n",
    "# Using codecs.decode to unescape the escape character\n",
    "delimiter = str(codecs.decode(delimiter, \"unicode_escape\"))\n",
    "\n",
    "print(\"\\nWriting newly formatted file...\")\n",
    "with open(outputfile, 'w', encoding='utf-8') as outputfile:\n",
    "    writer = csv.writer(outputfile, delimiter=delimiter, lineterminator='\\n')\n",
    "    for pair in qa_pairs:\n",
    "        writer.writerow(pair)\n",
    "\n",
    "print(\"Done writing to file\")"
   ]
  },
  {
   "cell_type": "code",
   "execution_count": 12,
   "metadata": {},
   "outputs": [],
   "source": [
    "# checking for malformed pairs in preprocessing\n",
    "for pair in qa_pairs:\n",
    "    assert len(pair) == 2, f\"Found a pair with length {len(pair)}: {pair}\""
   ]
  }
 ],
 "metadata": {
  "kernelspec": {
   "display_name": "venv",
   "language": "python",
   "name": "python3"
  },
  "language_info": {
   "codemirror_mode": {
    "name": "ipython",
    "version": 3
   },
   "file_extension": ".py",
   "mimetype": "text/x-python",
   "name": "python",
   "nbconvert_exporter": "python",
   "pygments_lexer": "ipython3",
   "version": "3.12.2"
  }
 },
 "nbformat": 4,
 "nbformat_minor": 2
}
